{
 "cells": [
  {
   "cell_type": "code",
   "execution_count": 1,
   "id": "79c67008-205d-46be-8c49-11117aeb8c4a",
   "metadata": {
    "tags": []
   },
   "outputs": [],
   "source": [
    "from pathlib import Path"
   ]
  },
  {
   "cell_type": "markdown",
   "id": "bf420668-4be4-4051-82fe-6247fce19925",
   "metadata": {},
   "source": [
    "# Job Arrays:"
   ]
  },
  {
   "cell_type": "code",
   "execution_count": 2,
   "id": "6e530827-a8d1-4e7f-82e3-f1163a4922f7",
   "metadata": {
    "tags": []
   },
   "outputs": [],
   "source": [
    "default_slurm_script = \"\"\"#!/bin/bash\n",
    "#SBATCH --job-name={jobname:<31} # Job name, will show up in squeue output\n",
    "#SBATCH --ntasks=1                                 # \n",
    "#SBATCH --nodes=1                                  # Ensure that all cores are on one machine\n",
    "#SBATCH --cpus-per-task=1                          # Number of cores\n",
    "#SBATCH --time={runtime:<35} # Runtime in DAYS-HH:MM:SS format\n",
    "#SBATCH --mem-per-cpu={mem:<28d} # Memory per cpu in MB (see also --mem)\n",
    "#SBATCH --array=0-{n_tasks}%{n_runs}   # File to which standard err will be written\n",
    "#SBATCH --output=job_msgs/job_%A_%a.out  # File to which standard out will be written\n",
    "#SBATCH --error=job_msgs/job_%A_%a.err   # File to which standard err will be written\n",
    "\n",
    "# get runfolder\n",
    "SAMPLE_LIST=(/scratch/davidap97/Ako_Bgates/CP123_B13/{rf}/*)\n",
    "SAMPLE=${{SAMPLE_LIST[${{SLURM_ARRAY_TASK_ID}}]}}\n",
    "cd ${{SAMPLE}}\n",
    "pwd\n",
    "\n",
    "# run program\n",
    "qdyn_optimize --gate=./gate.dat --basis=basis0,basis1,basis2,basis3,basis4,basis5,basis6,basis7 --J_T=J_T_sm --internal-units=GHz_units.txt --write-optimized-gate=./final_gate.dat ./\n",
    "\n",
    "\"\"\""
   ]
  },
  {
   "cell_type": "code",
   "execution_count": 3,
   "id": "9e6b272b-9124-42f5-ac11-c2953ef1f63d",
   "metadata": {
    "tags": []
   },
   "outputs": [],
   "source": [
    "rf = Path(\"All_runfolders\")\n",
    "rf\n",
    "with open(\"jobarray_script.slrm\", \"w\") as f:\n",
    "    f.write(\n",
    "        default_slurm_script.format(\n",
    "            rf = rf,\n",
    "            n_tasks= len(list(rf.iterdir()))-1,\n",
    "            jobname=\"CP123_B13\",\n",
    "            runtime=\"7-000:00:00\",\n",
    "            n_runs=10,\n",
    "            mem=700\n",
    "        )\n",
    "    )"
   ]
  },
  {
   "cell_type": "code",
   "execution_count": 4,
   "id": "f4230bb7-ac69-41ce-90fe-eea4d54a7bf2",
   "metadata": {
    "tags": []
   },
   "outputs": [
    {
     "name": "stdout",
     "output_type": "stream",
     "text": [
      "#!/bin/bash\n",
      "#SBATCH --job-name=CP123_B13                       # Job name, will show up in squeue output\n",
      "#SBATCH --ntasks=1                                 # \n",
      "#SBATCH --nodes=1                                  # Ensure that all cores are on one machine\n",
      "#SBATCH --cpus-per-task=1                          # Number of cores\n",
      "#SBATCH --time=7-000:00:00                         # Runtime in DAYS-HH:MM:SS format\n",
      "#SBATCH --mem-per-cpu=700                          # Memory per cpu in MB (see also --mem)\n",
      "#SBATCH --array=0-5%10   # File to which standard err will be written\n",
      "#SBATCH --output=job_msgs/job_%A_%a.out  # File to which standard out will be written\n",
      "#SBATCH --error=job_msgs/job_%A_%a.err   # File to which standard err will be written\n",
      "\n",
      "# get runfolder\n",
      "SAMPLE_LIST=(/scratch/davidap97/Ako_Bgates/CP123_B13/All_runfolders/*)\n",
      "SAMPLE=${SAMPLE_LIST[${SLURM_ARRAY_TASK_ID}]}\n",
      "cd ${SAMPLE}\n",
      "pwd\n",
      "\n",
      "# run program\n",
      "qdyn_optimize --gate=./gate.dat --basis=basis0,basis1,basis2,basis3,basis4,basis5,basis6,basis7 --J_T=J_T_sm --internal-units=GHz_units.txt --write-optimized-gate=./final_gate.dat ./\n",
      "\n"
     ]
    }
   ],
   "source": [
    "!cat jobarray_script.slrm"
   ]
  },
  {
   "cell_type": "code",
   "execution_count": null,
   "id": "512bcbb0-a982-4552-bfdc-3a37207fdf22",
   "metadata": {},
   "outputs": [],
   "source": []
  },
  {
   "cell_type": "code",
   "execution_count": null,
   "id": "7c98805f-49ab-4130-ae5c-b16d88392715",
   "metadata": {},
   "outputs": [],
   "source": []
  },
  {
   "cell_type": "code",
   "execution_count": null,
   "id": "b0f1ef8c-e673-48fa-847b-843ce88c80bb",
   "metadata": {},
   "outputs": [],
   "source": []
  },
  {
   "cell_type": "code",
   "execution_count": null,
   "id": "509d8e4b-580d-46ec-a502-1ff00a67bfd3",
   "metadata": {},
   "outputs": [],
   "source": []
  }
 ],
 "metadata": {
  "kernelspec": {
   "display_name": "Python 3 (ipykernel)",
   "language": "python",
   "name": "python3"
  },
  "language_info": {
   "codemirror_mode": {
    "name": "ipython",
    "version": 3
   },
   "file_extension": ".py",
   "mimetype": "text/x-python",
   "name": "python",
   "nbconvert_exporter": "python",
   "pygments_lexer": "ipython3",
   "version": "3.11.8"
  }
 },
 "nbformat": 4,
 "nbformat_minor": 5
}
