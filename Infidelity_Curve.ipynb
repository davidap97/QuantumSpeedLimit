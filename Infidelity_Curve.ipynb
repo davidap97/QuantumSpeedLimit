{
 "cells": [
  {
   "cell_type": "markdown",
   "id": "411f0855-c530-4fbd-bc47-59b37fbec606",
   "metadata": {
    "tags": []
   },
   "source": [
    "# Plotting the Infidelity as a function of Gate Duration\n",
    "\n",
    "<font size=\"5\"> To get insight regarding the whereabouts of the quantum speed limit, it is necessary to view all Krotov optimizations conducted for different final times as a connected protocol. Thus, we associate each final time $T, T-b, T-2b,...$  with the obtained gate infidelity $J_{T,sm}$ of that optimization."
   ]
  },
  {
   "cell_type": "code",
   "execution_count": null,
   "id": "95a8c0dc-2961-4f8c-809e-bf957c48bac2",
   "metadata": {},
   "outputs": [],
   "source": [
    "import os\n",
    "\n",
    "import copy\n",
    "\"\"\"\n",
    "Assignment statements in Python do not copy objects!\n",
    "they create bindings between a target and an object.\n",
    "a copy is sometimes needed so one can change one copy without changing the other!\n",
    "\"\"\"\n",
    "from pathlib import Path\n",
    "\n",
    "import scipy\n",
    "import numpy as np\n",
    "import qutip\n",
    "\n",
    "import matplotlib\n",
    "import matplotlib.pyplot as plt\n",
    "\n",
    "\n",
    "import re\n",
    "# get numbers from string\n",
    "\n",
    "import subprocess as subp\n",
    "\n",
    "%matplotlib widget"
   ]
  },
  {
   "cell_type": "code",
   "execution_count": 3,
   "id": "530b57f9-a05f-4cb7-a1fd-1859b33da6e9",
   "metadata": {
    "tags": []
   },
   "outputs": [],
   "source": [
    "\"\"\"\n",
    "The overall idea is go through each runfolder indicated by different final times T,T-b,T-2b,.. \n",
    "Then, get the gate infidelity from the \"pulse1.oct.dat\"-file and ultimately,\n",
    "map the final times against their corresponding gate infidelities.\n",
    "\"\"\"\n",
    "# \n",
    "# Thank god for the nice person, that created this piece of artwork\n",
    "def parse(filename, sep='|'):\n",
    "    all_items = []\n",
    "    with open(filename) as source:\n",
    "        for line in source:\n",
    "            row_items = []\n",
    "            for item in line.split(sep):\n",
    "                row_items.append(item.strip())\n",
    "            all_items.append(row_items)\n",
    "    return all_items\n",
    "\n",
    "def read_headline(filename):\n",
    "    L = parse(filename)\n",
    "    \n",
    "    headline = L[0]\n",
    "    \n",
    "    return headline\n",
    "    \n",
    "    \n",
    "def get_oct_infid_pulse(filename):\n",
    "    headline_list = read_headline(filename)\n",
    "    # headline_list is a 'list' of length 1, get first element 'headline'\n",
    "    \n",
    "    headline = headline_list[0]\n",
    "    # headline is a string, that contains OCT_iter, J_T, pulse_id\n",
    "    # convert string into float\n",
    "    # print(headline)\n",
    "    \n",
    "    all_numbers = re.findall(r'\\d+',headline)\n",
    "    # all_numbers is a LIST OF STRINGS\n",
    "    #the zeroth element is the OCT_iter,\n",
    "    # the first,second,third entry are the infidelity e.g. [OCT_iter, 9(erste zahl vorm komma), 9999... (nachkommastellen), 05 (power), 1 (pulse_id)]\n",
    "    # the fifth entry is the pulse_id\n",
    "    \n",
    "    # 1. GET OCT_ITER, get 0th element of ALL NUMBERS, TRANSFORM to INT\n",
    "    OCT_iter = int(all_numbers[0])\n",
    "    \n",
    "    \n",
    "    \n",
    "    # 2. GET INFIDELITY\n",
    "    #infidelity is a float point number, get float point number !\n",
    "    \n",
    "    regex = '[+-]?[0-9]+\\.[0-9]+'\n",
    "    \n",
    "    infid_list = re.findall(regex,headline)\n",
    "    \n",
    "    # 'infid_list' is a list containing the infidelity as a string WITHOUT its power/potenz 'E-5'\n",
    "    \n",
    "    # Get the CORRECT POWER from all_numbers\n",
    "    power = int(all_numbers[-2])\n",
    "    \n",
    "    # infid is the infidelity\n",
    "    infid = float(infid_list[0])*10**(-power)\n",
    "    \n",
    "    \n",
    "    #3. GET PULSE ID\n",
    "    pulse_id = int(all_numbers[-1])\n",
    "    \n",
    "    \n",
    "\n",
    "    return [OCT_iter, infid,pulse_id]\n",
    "\n",
    "\n",
    "\n",
    "def get_numbers_from_runfolders(start, end):\n",
    "    OCT_iter_list = []\n",
    "    infid_list = []\n",
    "    times_list = []\n",
    "    \n",
    "    for i in range(start,end+1):\n",
    "        #rf_p = \"Offspring2/\" + \"rf\" + str(i)\n",
    "        rf_p =  \"rf\" + str(i)\n",
    "        if not os.path.isdir(rf_p):\n",
    "            #print('Runfolder '+rf_p + ' does NOT exist!')\n",
    "            continue\n",
    "        oct_infid_pulse = get_oct_infid_pulse(rf_p + \"/pulse1.oct.dat\" )\n",
    "        times_list.append(i)\n",
    "        \n",
    "        # sort_numbers_from_runfolders\n",
    "        [OCT_iter,infid,pulse_id] = oct_infid_pulse\n",
    "        OCT_iter_list.append(OCT_iter)\n",
    "        infid_list.append(infid)\n",
    "        \n",
    "    return times_list,OCT_iter_list, infid_list\n",
    "    \n",
    "\n",
    "def plot_infidelity_curve(times,infid):\n",
    "    fig, ax = plt.subplots()\n",
    "    ax.plot(times, infid,'ro')\n",
    "    #plt.plot(times,infid,'ro')\n",
    "    plt.xlabel('Gate Duration in ns')\n",
    "    plt.yscale('log')\n",
    "    plt.ylabel('Gate Error')\n",
    "    plt.show()\n",
    "\n",
    "def plot_iterations_curve(times,OCT_iter):\n",
    "    fig, ax = plt.subplots()\n",
    "    ax.plot(times,OCT_iter,\"go\")\n",
    "    #plt.plot(times,OCT_iter,'go')\n",
    "    plt.xlabel('Gate Duration - Final Time Optimizations')\n",
    "    #plt.yscale('log')\n",
    "    plt.ylabel('Iterations')\n",
    "    plt.show()"
   ]
  },
  {
   "cell_type": "markdown",
   "id": "ad4eb17c-115d-4c13-bb90-e61773625647",
   "metadata": {},
   "source": [
    "<font size=\"5\">\n",
    "If $T$ is the quantum speed limit, we observe the following: For $t \\geq T $, the target gate will be implemented with desired infidelity $J_{T,sm} = 10^{-4}$. For  $ t<T $ , the Krotov algorithm fails to converge, the target WILL NOT be implemented with desired infidelity.\n",
    "Hence, one observes a sudden change of the slope of the \"infidelity curve\"."
   ]
  },
  {
   "cell_type": "code",
   "execution_count": 5,
   "id": "72d8db3e-1bc2-4e77-baf0-f6936fabdb44",
   "metadata": {},
   "outputs": [],
   "source": [
    "times,OCT_iter, infid = get_numbers_from_runfolders(1, 10)"
   ]
  },
  {
   "cell_type": "code",
   "execution_count": 1,
   "id": "b48e7444-1a5a-406d-b43b-3717ebd9f36e",
   "metadata": {
    "tags": []
   },
   "outputs": [
    {
     "ename": "NameError",
     "evalue": "name 'plot_infidelity_curve' is not defined",
     "output_type": "error",
     "traceback": [
      "\u001b[0;31m---------------------------------------------------------------------------\u001b[0m",
      "\u001b[0;31mNameError\u001b[0m                                 Traceback (most recent call last)",
      "Cell \u001b[0;32mIn[1], line 4\u001b[0m\n\u001b[1;32m      1\u001b[0m \u001b[38;5;66;03m# gate duration(s) : final time(s) of Krotov optimization(s)\u001b[39;00m\n\u001b[1;32m      2\u001b[0m \u001b[38;5;66;03m# gate error: gate infidelity J_{T,sm} obtained for Krotov opt. at final time T.\u001b[39;00m\n\u001b[0;32m----> 4\u001b[0m \u001b[43mplot_infidelity_curve\u001b[49m(times,infid)\n",
      "\u001b[0;31mNameError\u001b[0m: name 'plot_infidelity_curve' is not defined"
     ]
    }
   ],
   "source": [
    "# gate duration(s) : final time(s) of Krotov optimization(s)\n",
    "# gate error: gate infidelity J_{T,sm} obtained for Krotov opt. at final time T.\n",
    "\n",
    "plot_infidelity_curve(times,infid)"
   ]
  },
  {
   "cell_type": "code",
   "execution_count": null,
   "id": "db024125-620f-48aa-b54d-bd027348805c",
   "metadata": {},
   "outputs": [],
   "source": [
    "# Final times against required iterations\n",
    "\n",
    "#plot_iterations_curve(times,OCT_iter)"
   ]
  },
  {
   "cell_type": "code",
   "execution_count": null,
   "id": "34a5be6d-6d3f-44f5-a412-8b87da54d3eb",
   "metadata": {},
   "outputs": [],
   "source": []
  },
  {
   "cell_type": "code",
   "execution_count": null,
   "id": "758d6cf9-5b8e-4e40-a876-9aea0e801a90",
   "metadata": {},
   "outputs": [],
   "source": []
  },
  {
   "cell_type": "code",
   "execution_count": null,
   "id": "0d8bbb11-c7da-4663-a21a-652fe990753b",
   "metadata": {},
   "outputs": [],
   "source": []
  }
 ],
 "metadata": {
  "kernelspec": {
   "display_name": "Python 3 (ipykernel)",
   "language": "python",
   "name": "python3"
  },
  "language_info": {
   "codemirror_mode": {
    "name": "ipython",
    "version": 3
   },
   "file_extension": ".py",
   "mimetype": "text/x-python",
   "name": "python",
   "nbconvert_exporter": "python",
   "pygments_lexer": "ipython3",
   "version": "3.9.18"
  }
 },
 "nbformat": 4,
 "nbformat_minor": 5
}
